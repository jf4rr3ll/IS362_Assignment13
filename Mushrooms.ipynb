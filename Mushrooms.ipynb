{
 "cells": [
  {
   "cell_type": "markdown",
   "metadata": {},
   "source": [
    "# IS362 - Assignment 13"
   ]
  },
  {
   "cell_type": "markdown",
   "metadata": {},
   "source": [
    "Mushrooms Dataset. A famous—if slightly moldy—dataset about mushrooms can be found in the UCI repository\n",
    "here: https://archive.ics.uci.edu/ml/datasets/Mushroom. The fact that this is such a well-known dataset in the\n",
    "data science community has made it a good dataset to use for comparative benchmarking. For example, if someone\n",
    "was working to build a better decision tree algorithm (or other predictive classifier) to analyze categorical data,\n",
    "this dataset could be useful. In Project 4, we’ll use scikit-learn to answer the question, “Which other attribute\n",
    "or attributes are the best predictors of whether a particular mushroom is poisonous or edible?”\n",
    "Your assignment is to\n",
    "• First study the dataset and the associated description of the data (i.e. “data dictionary”). You may need to\n",
    "look around a bit, but it’s there!\n",
    "• Create a pandas DataFrame with a subset of the columns in the dataset. You should include the column\n",
    "that indicates edible or poisonous, the column that includes odor, and at least one other column of your\n",
    "choosing.\n",
    "• Add meaningful names for each column.\n",
    "• Replace the codes used in the data with numeric values—for example, in the first “target” column, “e” might\n",
    "become 0 and “p” might become 1. This is because your downstream processing in Project 4 using\n",
    "scikit-learn requires that values be stored as numerics.\n",
    "• Perform exploratory data analysis: show the distribution of data for each of the columns you selected, and\n",
    "show scatterplots for edible/poisonous vs. odor as well as the other column that you selected.\n",
    "• Include some text describing your preliminary conclusions about whether either of the other columns\n",
    "could be helpful in predicting if a specific mushroom is edible or poisonous."
   ]
  },
  {
   "cell_type": "markdown",
   "metadata": {},
   "source": [
    "Let's start with the module imports:"
   ]
  },
  {
   "cell_type": "code",
   "execution_count": 1,
   "metadata": {
    "collapsed": true
   },
   "outputs": [],
   "source": [
    "import numpy as np\n",
    "import pandas as pd\n",
    "from matplotlib import pyplot as plt\n",
    "import seaborn as sns\n",
    "%matplotlib inline\n",
    "from sklearn.linear_model import LinearRegression"
   ]
  },
  {
   "cell_type": "markdown",
   "metadata": {},
   "source": [
    "Now we're going to create a data frame with the data we want to look at. Most important, we're looking at the first column that tells us whether the mushroom is edible or poisonous. In addition, we're going to look at the odor, the color of the cap, and the color of the gills. This information is stored in columns 3, 5, and 9, which we will rename appropriately to \"Cap Color\", \"Odor\", and \"Gill Color\"."
   ]
  },
  {
   "cell_type": "code",
   "execution_count": 15,
   "metadata": {
    "collapsed": false
   },
   "outputs": [
    {
     "data": {
      "text/html": [
       "<div>\n",
       "<table border=\"1\" class=\"dataframe\">\n",
       "  <thead>\n",
       "    <tr style=\"text-align: right;\">\n",
       "      <th></th>\n",
       "      <th>Edible</th>\n",
       "      <th>Cap_Color</th>\n",
       "      <th>Odor</th>\n",
       "      <th>Gill_Color</th>\n",
       "    </tr>\n",
       "  </thead>\n",
       "  <tbody>\n",
       "    <tr>\n",
       "      <th>0</th>\n",
       "      <td>p</td>\n",
       "      <td>n</td>\n",
       "      <td>p</td>\n",
       "      <td>k</td>\n",
       "    </tr>\n",
       "    <tr>\n",
       "      <th>1</th>\n",
       "      <td>e</td>\n",
       "      <td>y</td>\n",
       "      <td>a</td>\n",
       "      <td>k</td>\n",
       "    </tr>\n",
       "    <tr>\n",
       "      <th>2</th>\n",
       "      <td>e</td>\n",
       "      <td>w</td>\n",
       "      <td>l</td>\n",
       "      <td>n</td>\n",
       "    </tr>\n",
       "    <tr>\n",
       "      <th>3</th>\n",
       "      <td>p</td>\n",
       "      <td>w</td>\n",
       "      <td>p</td>\n",
       "      <td>n</td>\n",
       "    </tr>\n",
       "    <tr>\n",
       "      <th>4</th>\n",
       "      <td>e</td>\n",
       "      <td>g</td>\n",
       "      <td>n</td>\n",
       "      <td>k</td>\n",
       "    </tr>\n",
       "  </tbody>\n",
       "</table>\n",
       "</div>"
      ],
      "text/plain": [
       "  Edible Cap_Color Odor Gill_Color\n",
       "0      p         n    p          k\n",
       "1      e         y    a          k\n",
       "2      e         w    l          n\n",
       "3      p         w    p          n\n",
       "4      e         g    n          k"
      ]
     },
     "execution_count": 15,
     "metadata": {},
     "output_type": "execute_result"
    }
   ],
   "source": [
    "mushroom_data = pd.read_csv('https://archive.ics.uci.edu/ml/machine-learning-databases/mushroom/agaricus-lepiota.data',sep=',', header=None, usecols=[0,3,5,9], names=[\"Edible\",\"Cap_Color\",\"Odor\",\"Gill_Color\"])\n",
    "mushroom_data.head()"
   ]
  },
  {
   "cell_type": "markdown",
   "metadata": {},
   "source": [
    "We can see here that the data is stored as letter values. We need data stored as numeric values instead, so we're going to have to change this. \n",
    "\n",
    "Here are the updates we're going to have to make:\n",
    "\n",
    "Edible:\n",
    "edible: e = 0\n",
    "poisonous: p = 1\n",
    "\n",
    "Cap Color:\n",
    "brown: n = 0\n",
    "buff: b = 1\n",
    "cinnamon: c = 2\n",
    "gray: g = 3\n",
    "green: r = 4\n",
    "pink: p = 5\n",
    "purple: u = 6\n",
    "red: e = 7\n",
    "white: w = 8\n",
    "yellow: y = 9\n",
    "\n",
    "Odor:\n",
    "almond: a = 0\n",
    "anise: l\n",
    "creosote: c = 2\n",
    "fishy: y = 3\n",
    "foul: f = 4\n",
    "musty: m = 5\n",
    "none: n = 6\n",
    "pungent: p = 7\n",
    "spicy: s = 8\n",
    "\n",
    "Gill Color:\n",
    "black: k = 0\n",
    "brown: n = 1\n",
    "buff: b = 2\n",
    "chocolate: h = 3\n",
    "gray: g = 4\n",
    "green: r = 5\n",
    "orange: o = 6\n",
    "pink: p = 7\n",
    "purple: u = 8\n",
    "red: e = 9\n",
    "white: w = 10\n",
    "yellow: y = 11"
   ]
  },
  {
   "cell_type": "code",
   "execution_count": 16,
   "metadata": {
    "collapsed": false
   },
   "outputs": [],
   "source": [
    "mushroom_data.replace(to_replace={\"Edible\":{'p': 1, 'e': 0}}, inplace=True)\n",
    "mushroom_data.replace(to_replace={\"Cap_Color\":{'n':0, 'b':1, 'c':2, 'g':3, 'r':4, 'p':5, 'u':6, 'e':7, 'w':8, 'y':9}}, inplace=True)\n",
    "mushroom_data.replace(to_replace={\"Odor\":{'a':0, 'l':1, 'c':2, 'y':3, 'f':4, 'm':5, 'n':6, 'p':7, 's':8}}, inplace=True)\n",
    "mushroom_data.replace(to_replace={\"Gill_Color\":{'k':0, 'n':1, 'b':2, 'h':3, 'g':4, 'r':5, 'o':6, 'p':7, 'u':8, 'e':9, 'w':10, 'y':11}}, inplace=True)"
   ]
  },
  {
   "cell_type": "markdown",
   "metadata": {},
   "source": [
    "Now let's take a peek at our handiwork:"
   ]
  },
  {
   "cell_type": "code",
   "execution_count": 17,
   "metadata": {
    "collapsed": false
   },
   "outputs": [
    {
     "data": {
      "text/html": [
       "<div>\n",
       "<table border=\"1\" class=\"dataframe\">\n",
       "  <thead>\n",
       "    <tr style=\"text-align: right;\">\n",
       "      <th></th>\n",
       "      <th>Edible</th>\n",
       "      <th>Cap_Color</th>\n",
       "      <th>Odor</th>\n",
       "      <th>Gill_Color</th>\n",
       "    </tr>\n",
       "  </thead>\n",
       "  <tbody>\n",
       "    <tr>\n",
       "      <th>0</th>\n",
       "      <td>1</td>\n",
       "      <td>0</td>\n",
       "      <td>7</td>\n",
       "      <td>0</td>\n",
       "    </tr>\n",
       "    <tr>\n",
       "      <th>1</th>\n",
       "      <td>0</td>\n",
       "      <td>9</td>\n",
       "      <td>0</td>\n",
       "      <td>0</td>\n",
       "    </tr>\n",
       "    <tr>\n",
       "      <th>2</th>\n",
       "      <td>0</td>\n",
       "      <td>8</td>\n",
       "      <td>1</td>\n",
       "      <td>1</td>\n",
       "    </tr>\n",
       "    <tr>\n",
       "      <th>3</th>\n",
       "      <td>1</td>\n",
       "      <td>8</td>\n",
       "      <td>7</td>\n",
       "      <td>1</td>\n",
       "    </tr>\n",
       "    <tr>\n",
       "      <th>4</th>\n",
       "      <td>0</td>\n",
       "      <td>3</td>\n",
       "      <td>6</td>\n",
       "      <td>0</td>\n",
       "    </tr>\n",
       "  </tbody>\n",
       "</table>\n",
       "</div>"
      ],
      "text/plain": [
       "   Edible  Cap_Color  Odor  Gill_Color\n",
       "0       1          0     7           0\n",
       "1       0          9     0           0\n",
       "2       0          8     1           1\n",
       "3       1          8     7           1\n",
       "4       0          3     6           0"
      ]
     },
     "execution_count": 17,
     "metadata": {},
     "output_type": "execute_result"
    }
   ],
   "source": [
    "mushroom_data.head()"
   ]
  },
  {
   "cell_type": "markdown",
   "metadata": {},
   "source": [
    "Finally, we want to examine this data in graphical form:"
   ]
  },
  {
   "cell_type": "code",
   "execution_count": 9,
   "metadata": {
    "collapsed": false
   },
   "outputs": [
    {
     "data": {
      "text/plain": [
       "<matplotlib.collections.PathCollection at 0x13a30f00f60>"
      ]
     },
     "execution_count": 9,
     "metadata": {},
     "output_type": "execute_result"
    },
    {
     "data": {
      "image/png": "[encoded data removed]",
      "text/plain": [
       "<matplotlib.figure.Figure at 0x13a2fb2da20>"
      ]
     },
     "metadata": {},
     "output_type": "display_data"
    }
   ],
   "source": [
    "x = mushroom_data[\"Edible\"].values\n",
    "y = mushroom_data[\"Cap_Color\"].values\n",
    "\n",
    "plt.scatter(x,y)"
   ]
  },
  {
   "cell_type": "markdown",
   "metadata": {},
   "source": [
    "Now, as we recall, 0 means the mushroom is edible, 1 means its poisonous. The numerical values on the y axis determine the color of the cap. Based on this plot, we can see that although edible mushrooms come in every color cap, there are no poisonous mushrooms with a cap color of 4 (green) or 6 (purple)."
   ]
  },
  {
   "cell_type": "code",
   "execution_count": 18,
   "metadata": {
    "collapsed": false
   },
   "outputs": [
    {
     "data": {
      "text/plain": [
       "<matplotlib.collections.PathCollection at 0x13a31366048>"
      ]
     },
     "execution_count": 18,
     "metadata": {},
     "output_type": "execute_result"
    },
    {
     "data": {
      "image/png": "[encoded data removed]",
      "text/plain": [
       "<matplotlib.figure.Figure at 0x13a3126b7f0>"
      ]
     },
     "metadata": {},
     "output_type": "display_data"
    }
   ],
   "source": [
    "x = mushroom_data[\"Edible\"].values\n",
    "y = mushroom_data[\"Odor\"].values\n",
    "\n",
    "plt.scatter(x,y)"
   ]
  },
  {
   "cell_type": "markdown",
   "metadata": {},
   "source": [
    "This graph is a bit more helpful. While mushrooms with no odor (6) could be either edible or poisonous, mushrooms with an almond or anise odor (0 or 1) will be edible. All other mushrooms are poisonous. (Most of the other smells described seem unpleasant anyway... I don't think we're missing out)"
   ]
  },
  {
   "cell_type": "code",
   "execution_count": 19,
   "metadata": {
    "collapsed": false
   },
   "outputs": [
    {
     "data": {
      "text/plain": [
       "<matplotlib.collections.PathCollection at 0x13a313fcdd8>"
      ]
     },
     "execution_count": 19,
     "metadata": {},
     "output_type": "execute_result"
    },
    {
     "data": {
      "image/png": "[encoded data removed]",
      "text/plain": [
       "<matplotlib.figure.Figure at 0x13a31394f98>"
      ]
     },
     "metadata": {},
     "output_type": "display_data"
    }
   ],
   "source": [
    "x = mushroom_data[\"Edible\"].values\n",
    "y = mushroom_data[\"Gill_Color\"].values\n",
    "\n",
    "plt.scatter(x,y)"
   ]
  },
  {
   "cell_type": "markdown",
   "metadata": {},
   "source": [
    "Finally, we're looking at gill color. Here we can determine that mushrooms whose gill color is 6 (orange) or or 9 (red) are not going to be poisonous, and that mushrooms with a gill color of 3 (chocolate) or 5 (green) will always be poisonous, as there are no edible mushrooms with that color. "
   ]
  },
  {
   "cell_type": "markdown",
   "metadata": {},
   "source": [
    "Odor seems to be the most helpful of the three criteria analyzed, as it has the least overlap. Looking at the colors of the caps and gills of the mushrooms only provides a minimal amount of help, because there is a lot of overlap between what is poisonous and what is edible - many colors can have mushrooms from either category."
   ]
  },
  {
   "cell_type": "code",
   "execution_count": null,
   "metadata": {
    "collapsed": true
   },
   "outputs": [],
   "source": []
  }
 ],
 "metadata": {
  "kernelspec": {
   "display_name": "Python 3",
   "language": "python",
   "name": "python3"
  },
  "language_info": {
   "codemirror_mode": {
    "name": "ipython",
    "version": 3
   },
   "file_extension": ".py",
   "mimetype": "text/x-python",
   "name": "python",
   "nbconvert_exporter": "python",
   "pygments_lexer": "ipython3",
   "version": "3.6.0"
  }
 },
 "nbformat": 4,
 "nbformat_minor": 2
}
